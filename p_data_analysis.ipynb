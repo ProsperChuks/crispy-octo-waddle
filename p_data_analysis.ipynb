{
  "nbformat": 4,
  "nbformat_minor": 0,
  "metadata": {
    "colab": {
      "name": "p_data_analysis.ipynb",
      "provenance": [],
      "collapsed_sections": [],
      "mount_file_id": "16jVWIQg8BnxVZH_I88VidZL74szGM478",
      "authorship_tag": "ABX9TyML5+zzVFOEn5e1+ooJ3QmG",
      "include_colab_link": true
    },
    "kernelspec": {
      "name": "python3",
      "display_name": "Python 3"
    },
    "language_info": {
      "name": "python"
    }
  },
  "cells": [
    {
      "cell_type": "markdown",
      "metadata": {
        "id": "view-in-github",
        "colab_type": "text"
      },
      "source": [
        "<a href=\"https://colab.research.google.com/github/ProsperChuks/crispy-octo-waddle/blob/main/p_data_analysis.ipynb\" target=\"_parent\"><img src=\"https://colab.research.google.com/assets/colab-badge.svg\" alt=\"Open In Colab\"/></a>"
      ]
    },
    {
      "cell_type": "markdown",
      "metadata": {
        "id": "6DZ1vz-ahT85"
      },
      "source": [
        "Load data into pandas"
      ]
    },
    {
      "cell_type": "code",
      "metadata": {
        "id": "W-x3RhByU6R7",
        "colab": {
          "base_uri": "https://localhost:8080/"
        },
        "outputId": "366fa367-d297-4792-8b8c-b4fd6c6ae4de"
      },
      "source": [
        "import pandas as pd\n",
        "\n",
        "path = '/content/drive/MyDrive/Colab Notebooks/pandas/pokemon_data.csv'\n",
        "poke = pd.read_csv(path)\n",
        "print(poke)"
      ],
      "execution_count": 2,
      "outputs": [
        {
          "output_type": "stream",
          "text": [
            "       #                   Name   Type 1  ... Speed  Generation  Legendary\n",
            "0      1              Bulbasaur    Grass  ...    45           1      False\n",
            "1      2                Ivysaur    Grass  ...    60           1      False\n",
            "2      3               Venusaur    Grass  ...    80           1      False\n",
            "3      3  VenusaurMega Venusaur    Grass  ...    80           1      False\n",
            "4      4             Charmander     Fire  ...    65           1      False\n",
            "..   ...                    ...      ...  ...   ...         ...        ...\n",
            "795  719                Diancie     Rock  ...    50           6       True\n",
            "796  719    DiancieMega Diancie     Rock  ...   110           6       True\n",
            "797  720    HoopaHoopa Confined  Psychic  ...    70           6       True\n",
            "798  720     HoopaHoopa Unbound  Psychic  ...    80           6       True\n",
            "799  721              Volcanion     Fire  ...    70           6       True\n",
            "\n",
            "[800 rows x 12 columns]\n"
          ],
          "name": "stdout"
        }
      ]
    }
  ]
}